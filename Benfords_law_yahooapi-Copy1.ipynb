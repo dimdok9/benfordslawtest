{
 "cells": [
  {
   "cell_type": "markdown",
   "metadata": {},
   "source": [
    "# Visualization Technique\n",
    "- Narrative\n",
    "    - The other day, I was watching Connected, a scientific documentary on Netflix. While watching it, I have found that there is this thing called 'Benford's Law'. Benford's law is an observation about the frequency distribution of first-digits in many real-life sets of numerical data. In sets that obey the law, the number 1 appears as the leading significant digit about 30% of the time, while 9 appears as the leading significant digit less than 5% of the time(https://en.wikipedia.org/wiki/Benford%27s_law). Benford's law also works in financial statements or tax return sheets. As a person who previously worked at an accounting firm as an external financial auditor, I was surprised that this was my first time hearing about such a law. I decided to check if this law actually applies to financial statements of various companies. I plan to use the line + marker plot to visually compare actual financial data gathered from Rapid API - Yahoo finance API and my own calculated set that follows Benford's law.\n",
    "\n",
    "\n",
    "- About the Visualization\n",
    "    - Why I should use a line plot?\n",
    "        - A line plot is useful when there are certain trends in datasets, and you want to compare if those datasets follow each other's trends. Using a line plot could help me figure out how close the gathered data is aligned with the trend in Benford's law.\n",
    "                \n",
    "    - Why I should not use a line plot?\n",
    "        - Using a line plot, it is hard to figure out how much two data points are apart from each other. Using a bar plot would be much better in terms of comparing lengths of two different data points."
   ]
  },
  {
   "cell_type": "markdown",
   "metadata": {},
   "source": [
    "# Demonstration"
   ]
  },
  {
   "cell_type": "markdown",
   "metadata": {},
   "source": [
    "#### First, I am going to start off by importing usual suspects"
   ]
  },
  {
   "cell_type": "code",
   "execution_count": 1,
   "metadata": {},
   "outputs": [],
   "source": [
    "import requests\n",
    "from bs4 import BeautifulSoup\n",
    "import json\n",
    "import pandas as pd\n",
    "import math\n",
    "import matplotlib.pyplot as plt"
   ]
  },
  {
   "cell_type": "markdown",
   "metadata": {},
   "source": [
    "#### I have gathered financial data from Rapid API - Yahoo Finance API(https://rapidapi.com/apidojo/api/yahoo-finance1). I decided to choose four companies including Apple(AAPL), Google(GOOG), Tesla(TSLA), Microsoft(MSFT). I have downloaded the json files and loaded them with json library. Below are the codes I wrote to gather data from API"
   ]
  },
  {
   "cell_type": "code",
   "execution_count": 2,
   "metadata": {},
   "outputs": [],
   "source": [
    "# \n",
    "\n",
    "# company = \"\"\n",
    "\n",
    "# url = \"https://apidojo-yahoo-finance-v1.p.rapidapi.com/stock/v2/get-financials\"\n",
    "\n",
    "# querystring = {\"symbol\":company,\"region\":\"US\"}\n",
    "\n",
    "# headers = {\n",
    "#     'x-rapidapi-key': \"\",\n",
    "#     'x-rapidapi-host': \"\"\n",
    "#     }\n",
    "\n",
    "# response = requests.request(\"GET\", url, headers=headers, params=querystring)\n",
    "\n",
    "# with open('{}.json'.format(company), 'w') as f:\n",
    "#     f.write(response.text)"
   ]
  },
  {
   "cell_type": "code",
   "execution_count": 3,
   "metadata": {},
   "outputs": [],
   "source": [
    "\n",
    "with open('AAPL.json') as json_file:\n",
    "    AAPL = json.load(json_file)\n",
    "\n",
    "with open('GOOG.json') as json_file:\n",
    "    GOOG = json.load(json_file)\n",
    "    \n",
    "with open('TSLA.json') as json_file:\n",
    "    TSLA = json.load(json_file)\n",
    "    \n",
    "with open('MSFT.json') as json_file:\n",
    "    MSFT = json.load(json_file)\n"
   ]
  },
  {
   "cell_type": "markdown",
   "metadata": {},
   "source": [
    "#### Here's what it looks like"
   ]
  },
  {
   "cell_type": "code",
   "execution_count": 4,
   "metadata": {},
   "outputs": [],
   "source": [
    "#AAPL"
   ]
  },
  {
   "cell_type": "markdown",
   "metadata": {},
   "source": [
    "#### After json files are gathered, I have extracted financial statements(Cash Flow, Balance Sheet, Income Statement) from them."
   ]
  },
  {
   "cell_type": "code",
   "execution_count": 5,
   "metadata": {},
   "outputs": [],
   "source": [
    "# extracting CF from json file\n",
    "def extractcashflow(json_data):\n",
    "    CF_all = json_data['cashflowStatementHistory']['cashflowStatements']\n",
    "    cfk = []\n",
    "    for i in range(4):\n",
    "        cfk.append(pd.Series(pd.DataFrame(CF_all[i]).T['raw'], name = 2019 - i))\n",
    "\n",
    "    CF_4 = pd.concat(cfk,axis= 1)\n",
    "    CF_4 = CF_4.fillna(0)\n",
    "    return CF_4"
   ]
  },
  {
   "cell_type": "code",
   "execution_count": 6,
   "metadata": {},
   "outputs": [
    {
     "data": {
      "text/html": [
       "<div>\n",
       "<style scoped>\n",
       "    .dataframe tbody tr th:only-of-type {\n",
       "        vertical-align: middle;\n",
       "    }\n",
       "\n",
       "    .dataframe tbody tr th {\n",
       "        vertical-align: top;\n",
       "    }\n",
       "\n",
       "    .dataframe thead th {\n",
       "        text-align: right;\n",
       "    }\n",
       "</style>\n",
       "<table border=\"1\" class=\"dataframe\">\n",
       "  <thead>\n",
       "    <tr style=\"text-align: right;\">\n",
       "      <th></th>\n",
       "      <th>2019</th>\n",
       "      <th>2018</th>\n",
       "      <th>2017</th>\n",
       "      <th>2016</th>\n",
       "    </tr>\n",
       "  </thead>\n",
       "  <tbody>\n",
       "    <tr>\n",
       "      <th>investments</th>\n",
       "      <td>5335000000</td>\n",
       "      <td>58093000000</td>\n",
       "      <td>30845000000</td>\n",
       "      <td>-33542000000</td>\n",
       "    </tr>\n",
       "    <tr>\n",
       "      <th>changeToLiabilities</th>\n",
       "      <td>-1981000000</td>\n",
       "      <td>-2548000000</td>\n",
       "      <td>9172000000</td>\n",
       "      <td>8373000000</td>\n",
       "    </tr>\n",
       "    <tr>\n",
       "      <th>totalCashflowsFromInvestingActivities</th>\n",
       "      <td>-4289000000</td>\n",
       "      <td>45896000000</td>\n",
       "      <td>16066000000</td>\n",
       "      <td>-46446000000</td>\n",
       "    </tr>\n",
       "    <tr>\n",
       "      <th>netBorrowings</th>\n",
       "      <td>2499000000</td>\n",
       "      <td>-7819000000</td>\n",
       "      <td>432000000</td>\n",
       "      <td>29014000000</td>\n",
       "    </tr>\n",
       "    <tr>\n",
       "      <th>totalCashFromFinancingActivities</th>\n",
       "      <td>-86820000000</td>\n",
       "      <td>-90976000000</td>\n",
       "      <td>-87876000000</td>\n",
       "      <td>-17974000000</td>\n",
       "    </tr>\n",
       "  </tbody>\n",
       "</table>\n",
       "</div>"
      ],
      "text/plain": [
       "                                              2019         2018         2017  \\\n",
       "investments                             5335000000  58093000000  30845000000   \n",
       "changeToLiabilities                    -1981000000  -2548000000   9172000000   \n",
       "totalCashflowsFromInvestingActivities  -4289000000  45896000000  16066000000   \n",
       "netBorrowings                           2499000000  -7819000000    432000000   \n",
       "totalCashFromFinancingActivities      -86820000000 -90976000000 -87876000000   \n",
       "\n",
       "                                              2016  \n",
       "investments                           -33542000000  \n",
       "changeToLiabilities                     8373000000  \n",
       "totalCashflowsFromInvestingActivities -46446000000  \n",
       "netBorrowings                          29014000000  \n",
       "totalCashFromFinancingActivities      -17974000000  "
      ]
     },
     "execution_count": 6,
     "metadata": {},
     "output_type": "execute_result"
    }
   ],
   "source": [
    "extractcashflow(AAPL).head()"
   ]
  },
  {
   "cell_type": "code",
   "execution_count": 7,
   "metadata": {},
   "outputs": [],
   "source": [
    "# extracting Balance Sheet from json file\n",
    "def extractbalancesheet(json_data):\n",
    "    BS_all = json_data['balanceSheetHistory']['balanceSheetStatements']\n",
    "    bsk = []\n",
    "    for i in range(4):\n",
    "        bsk.append(pd.Series(pd.DataFrame(BS_all[i]).T['raw'], name = 2019 - i))\n",
    "\n",
    "    BS_4 = pd.concat(bsk,axis= 1)\n",
    "    BS_4 = BS_4.fillna(0)\n",
    "    return BS_4"
   ]
  },
  {
   "cell_type": "code",
   "execution_count": 8,
   "metadata": {},
   "outputs": [
    {
     "data": {
      "text/html": [
       "<div>\n",
       "<style scoped>\n",
       "    .dataframe tbody tr th:only-of-type {\n",
       "        vertical-align: middle;\n",
       "    }\n",
       "\n",
       "    .dataframe tbody tr th {\n",
       "        vertical-align: top;\n",
       "    }\n",
       "\n",
       "    .dataframe thead th {\n",
       "        text-align: right;\n",
       "    }\n",
       "</style>\n",
       "<table border=\"1\" class=\"dataframe\">\n",
       "  <thead>\n",
       "    <tr style=\"text-align: right;\">\n",
       "      <th></th>\n",
       "      <th>2019</th>\n",
       "      <th>2018</th>\n",
       "      <th>2017</th>\n",
       "      <th>2016</th>\n",
       "    </tr>\n",
       "  </thead>\n",
       "  <tbody>\n",
       "    <tr>\n",
       "      <th>totalLiab</th>\n",
       "      <td>258549000000</td>\n",
       "      <td>248028000000</td>\n",
       "      <td>258578000000</td>\n",
       "      <td>241272000000</td>\n",
       "    </tr>\n",
       "    <tr>\n",
       "      <th>totalStockholderEquity</th>\n",
       "      <td>65339000000</td>\n",
       "      <td>90488000000</td>\n",
       "      <td>107147000000</td>\n",
       "      <td>134047000000</td>\n",
       "    </tr>\n",
       "    <tr>\n",
       "      <th>otherCurrentLiab</th>\n",
       "      <td>47867000000</td>\n",
       "      <td>43242000000</td>\n",
       "      <td>39293000000</td>\n",
       "      <td>38099000000</td>\n",
       "    </tr>\n",
       "    <tr>\n",
       "      <th>totalAssets</th>\n",
       "      <td>323888000000</td>\n",
       "      <td>338516000000</td>\n",
       "      <td>365725000000</td>\n",
       "      <td>375319000000</td>\n",
       "    </tr>\n",
       "    <tr>\n",
       "      <th>endDate</th>\n",
       "      <td>1601078400</td>\n",
       "      <td>1569628800</td>\n",
       "      <td>1538179200</td>\n",
       "      <td>1506729600</td>\n",
       "    </tr>\n",
       "  </tbody>\n",
       "</table>\n",
       "</div>"
      ],
      "text/plain": [
       "                                2019          2018          2017          2016\n",
       "totalLiab               258549000000  248028000000  258578000000  241272000000\n",
       "totalStockholderEquity   65339000000   90488000000  107147000000  134047000000\n",
       "otherCurrentLiab         47867000000   43242000000   39293000000   38099000000\n",
       "totalAssets             323888000000  338516000000  365725000000  375319000000\n",
       "endDate                   1601078400    1569628800    1538179200    1506729600"
      ]
     },
     "execution_count": 8,
     "metadata": {},
     "output_type": "execute_result"
    }
   ],
   "source": [
    "extractbalancesheet(AAPL).head()"
   ]
  },
  {
   "cell_type": "code",
   "execution_count": 9,
   "metadata": {},
   "outputs": [],
   "source": [
    "# extracting Income Statement from json file\n",
    "def extractincomestatement(json_data):\n",
    "    IS_all = json_data['incomeStatementHistory']['incomeStatementHistory']\n",
    "    isk = []\n",
    "    for i in range(4):\n",
    "        isk.append(pd.Series(pd.DataFrame(IS_all[i]).T['raw'], name = 2019 - i))\n",
    "\n",
    "    IS_4 = pd.concat(isk,axis= 1)\n",
    "    IS_4 = IS_4.fillna(0)\n",
    "    return IS_4"
   ]
  },
  {
   "cell_type": "code",
   "execution_count": 10,
   "metadata": {},
   "outputs": [
    {
     "data": {
      "text/html": [
       "<div>\n",
       "<style scoped>\n",
       "    .dataframe tbody tr th:only-of-type {\n",
       "        vertical-align: middle;\n",
       "    }\n",
       "\n",
       "    .dataframe tbody tr th {\n",
       "        vertical-align: top;\n",
       "    }\n",
       "\n",
       "    .dataframe thead th {\n",
       "        text-align: right;\n",
       "    }\n",
       "</style>\n",
       "<table border=\"1\" class=\"dataframe\">\n",
       "  <thead>\n",
       "    <tr style=\"text-align: right;\">\n",
       "      <th></th>\n",
       "      <th>2019</th>\n",
       "      <th>2018</th>\n",
       "      <th>2017</th>\n",
       "      <th>2016</th>\n",
       "    </tr>\n",
       "  </thead>\n",
       "  <tbody>\n",
       "    <tr>\n",
       "      <th>researchDevelopment</th>\n",
       "      <td>18752000000</td>\n",
       "      <td>16217000000</td>\n",
       "      <td>14236000000</td>\n",
       "      <td>11581000000</td>\n",
       "    </tr>\n",
       "    <tr>\n",
       "      <th>effectOfAccountingCharges</th>\n",
       "      <td>0</td>\n",
       "      <td>0</td>\n",
       "      <td>0</td>\n",
       "      <td>0</td>\n",
       "    </tr>\n",
       "    <tr>\n",
       "      <th>incomeBeforeTax</th>\n",
       "      <td>67091000000</td>\n",
       "      <td>65737000000</td>\n",
       "      <td>72903000000</td>\n",
       "      <td>64089000000</td>\n",
       "    </tr>\n",
       "    <tr>\n",
       "      <th>minorityInterest</th>\n",
       "      <td>0</td>\n",
       "      <td>0</td>\n",
       "      <td>0</td>\n",
       "      <td>0</td>\n",
       "    </tr>\n",
       "    <tr>\n",
       "      <th>netIncome</th>\n",
       "      <td>57411000000</td>\n",
       "      <td>55256000000</td>\n",
       "      <td>59531000000</td>\n",
       "      <td>48351000000</td>\n",
       "    </tr>\n",
       "  </tbody>\n",
       "</table>\n",
       "</div>"
      ],
      "text/plain": [
       "                                  2019         2018         2017         2016\n",
       "researchDevelopment        18752000000  16217000000  14236000000  11581000000\n",
       "effectOfAccountingCharges            0            0            0            0\n",
       "incomeBeforeTax            67091000000  65737000000  72903000000  64089000000\n",
       "minorityInterest                     0            0            0            0\n",
       "netIncome                  57411000000  55256000000  59531000000  48351000000"
      ]
     },
     "execution_count": 10,
     "metadata": {},
     "output_type": "execute_result"
    }
   ],
   "source": [
    "extractincomestatement(AAPL).head()"
   ]
  },
  {
   "cell_type": "markdown",
   "metadata": {},
   "source": [
    "#### Now I am going to concatenate all three of them."
   ]
  },
  {
   "cell_type": "code",
   "execution_count": 11,
   "metadata": {},
   "outputs": [],
   "source": [
    "def combinefs(json_data):\n",
    "    return pd.concat([extractcashflow(json_data),extractbalancesheet(json_data),extractincomestatement(json_data)])"
   ]
  },
  {
   "cell_type": "code",
   "execution_count": 12,
   "metadata": {},
   "outputs": [
    {
     "data": {
      "text/html": [
       "<div>\n",
       "<style scoped>\n",
       "    .dataframe tbody tr th:only-of-type {\n",
       "        vertical-align: middle;\n",
       "    }\n",
       "\n",
       "    .dataframe tbody tr th {\n",
       "        vertical-align: top;\n",
       "    }\n",
       "\n",
       "    .dataframe thead th {\n",
       "        text-align: right;\n",
       "    }\n",
       "</style>\n",
       "<table border=\"1\" class=\"dataframe\">\n",
       "  <thead>\n",
       "    <tr style=\"text-align: right;\">\n",
       "      <th></th>\n",
       "      <th>2019</th>\n",
       "      <th>2018</th>\n",
       "      <th>2017</th>\n",
       "      <th>2016</th>\n",
       "    </tr>\n",
       "  </thead>\n",
       "  <tbody>\n",
       "    <tr>\n",
       "      <th>investments</th>\n",
       "      <td>5335000000</td>\n",
       "      <td>58093000000</td>\n",
       "      <td>30845000000</td>\n",
       "      <td>-33542000000</td>\n",
       "    </tr>\n",
       "    <tr>\n",
       "      <th>changeToLiabilities</th>\n",
       "      <td>-1981000000</td>\n",
       "      <td>-2548000000</td>\n",
       "      <td>9172000000</td>\n",
       "      <td>8373000000</td>\n",
       "    </tr>\n",
       "    <tr>\n",
       "      <th>totalCashflowsFromInvestingActivities</th>\n",
       "      <td>-4289000000</td>\n",
       "      <td>45896000000</td>\n",
       "      <td>16066000000</td>\n",
       "      <td>-46446000000</td>\n",
       "    </tr>\n",
       "    <tr>\n",
       "      <th>netBorrowings</th>\n",
       "      <td>2499000000</td>\n",
       "      <td>-7819000000</td>\n",
       "      <td>432000000</td>\n",
       "      <td>29014000000</td>\n",
       "    </tr>\n",
       "    <tr>\n",
       "      <th>totalCashFromFinancingActivities</th>\n",
       "      <td>-86820000000</td>\n",
       "      <td>-90976000000</td>\n",
       "      <td>-87876000000</td>\n",
       "      <td>-17974000000</td>\n",
       "    </tr>\n",
       "    <tr>\n",
       "      <th>...</th>\n",
       "      <td>...</td>\n",
       "      <td>...</td>\n",
       "      <td>...</td>\n",
       "      <td>...</td>\n",
       "    </tr>\n",
       "    <tr>\n",
       "      <th>totalOtherIncomeExpenseNet</th>\n",
       "      <td>803000000</td>\n",
       "      <td>1807000000</td>\n",
       "      <td>2005000000</td>\n",
       "      <td>2745000000</td>\n",
       "    </tr>\n",
       "    <tr>\n",
       "      <th>maxAge</th>\n",
       "      <td>1</td>\n",
       "      <td>1</td>\n",
       "      <td>1</td>\n",
       "      <td>1</td>\n",
       "    </tr>\n",
       "    <tr>\n",
       "      <th>discontinuedOperations</th>\n",
       "      <td>0</td>\n",
       "      <td>0</td>\n",
       "      <td>0</td>\n",
       "      <td>0</td>\n",
       "    </tr>\n",
       "    <tr>\n",
       "      <th>netIncomeFromContinuingOps</th>\n",
       "      <td>57411000000</td>\n",
       "      <td>55256000000</td>\n",
       "      <td>59531000000</td>\n",
       "      <td>48351000000</td>\n",
       "    </tr>\n",
       "    <tr>\n",
       "      <th>netIncomeApplicableToCommonShares</th>\n",
       "      <td>57411000000</td>\n",
       "      <td>55256000000</td>\n",
       "      <td>59531000000</td>\n",
       "      <td>48351000000</td>\n",
       "    </tr>\n",
       "  </tbody>\n",
       "</table>\n",
       "<p>70 rows × 4 columns</p>\n",
       "</div>"
      ],
      "text/plain": [
       "                                              2019         2018         2017  \\\n",
       "investments                             5335000000  58093000000  30845000000   \n",
       "changeToLiabilities                    -1981000000  -2548000000   9172000000   \n",
       "totalCashflowsFromInvestingActivities  -4289000000  45896000000  16066000000   \n",
       "netBorrowings                           2499000000  -7819000000    432000000   \n",
       "totalCashFromFinancingActivities      -86820000000 -90976000000 -87876000000   \n",
       "...                                            ...          ...          ...   \n",
       "totalOtherIncomeExpenseNet               803000000   1807000000   2005000000   \n",
       "maxAge                                           1            1            1   \n",
       "discontinuedOperations                           0            0            0   \n",
       "netIncomeFromContinuingOps             57411000000  55256000000  59531000000   \n",
       "netIncomeApplicableToCommonShares      57411000000  55256000000  59531000000   \n",
       "\n",
       "                                              2016  \n",
       "investments                           -33542000000  \n",
       "changeToLiabilities                     8373000000  \n",
       "totalCashflowsFromInvestingActivities -46446000000  \n",
       "netBorrowings                          29014000000  \n",
       "totalCashFromFinancingActivities      -17974000000  \n",
       "...                                            ...  \n",
       "totalOtherIncomeExpenseNet              2745000000  \n",
       "maxAge                                           1  \n",
       "discontinuedOperations                           0  \n",
       "netIncomeFromContinuingOps             48351000000  \n",
       "netIncomeApplicableToCommonShares      48351000000  \n",
       "\n",
       "[70 rows x 4 columns]"
      ]
     },
     "execution_count": 12,
     "metadata": {},
     "output_type": "execute_result"
    }
   ],
   "source": [
    "combinefs(AAPL)"
   ]
  },
  {
   "cell_type": "markdown",
   "metadata": {},
   "source": [
    "#### In order to conduct Benford's law test, you must extract the first-digit of every numerical data."
   ]
  },
  {
   "cell_type": "code",
   "execution_count": 13,
   "metadata": {},
   "outputs": [],
   "source": [
    "def extractfirstdigit(FS):\n",
    "    FS_mode = FS.copy()\n",
    "    for i in range(4):\n",
    "        FS_mode[2019-i] = FS[2019-i].apply(lambda x : int(str(abs(x))[0]))\n",
    "    return FS_mode"
   ]
  },
  {
   "cell_type": "code",
   "execution_count": 14,
   "metadata": {},
   "outputs": [
    {
     "data": {
      "text/html": [
       "<div>\n",
       "<style scoped>\n",
       "    .dataframe tbody tr th:only-of-type {\n",
       "        vertical-align: middle;\n",
       "    }\n",
       "\n",
       "    .dataframe tbody tr th {\n",
       "        vertical-align: top;\n",
       "    }\n",
       "\n",
       "    .dataframe thead th {\n",
       "        text-align: right;\n",
       "    }\n",
       "</style>\n",
       "<table border=\"1\" class=\"dataframe\">\n",
       "  <thead>\n",
       "    <tr style=\"text-align: right;\">\n",
       "      <th></th>\n",
       "      <th>2019</th>\n",
       "      <th>2018</th>\n",
       "      <th>2017</th>\n",
       "      <th>2016</th>\n",
       "    </tr>\n",
       "  </thead>\n",
       "  <tbody>\n",
       "    <tr>\n",
       "      <th>investments</th>\n",
       "      <td>5</td>\n",
       "      <td>5</td>\n",
       "      <td>3</td>\n",
       "      <td>3</td>\n",
       "    </tr>\n",
       "    <tr>\n",
       "      <th>changeToLiabilities</th>\n",
       "      <td>1</td>\n",
       "      <td>2</td>\n",
       "      <td>9</td>\n",
       "      <td>8</td>\n",
       "    </tr>\n",
       "    <tr>\n",
       "      <th>totalCashflowsFromInvestingActivities</th>\n",
       "      <td>4</td>\n",
       "      <td>4</td>\n",
       "      <td>1</td>\n",
       "      <td>4</td>\n",
       "    </tr>\n",
       "    <tr>\n",
       "      <th>netBorrowings</th>\n",
       "      <td>2</td>\n",
       "      <td>7</td>\n",
       "      <td>4</td>\n",
       "      <td>2</td>\n",
       "    </tr>\n",
       "    <tr>\n",
       "      <th>totalCashFromFinancingActivities</th>\n",
       "      <td>8</td>\n",
       "      <td>9</td>\n",
       "      <td>8</td>\n",
       "      <td>1</td>\n",
       "    </tr>\n",
       "    <tr>\n",
       "      <th>...</th>\n",
       "      <td>...</td>\n",
       "      <td>...</td>\n",
       "      <td>...</td>\n",
       "      <td>...</td>\n",
       "    </tr>\n",
       "    <tr>\n",
       "      <th>totalOtherIncomeExpenseNet</th>\n",
       "      <td>8</td>\n",
       "      <td>1</td>\n",
       "      <td>2</td>\n",
       "      <td>2</td>\n",
       "    </tr>\n",
       "    <tr>\n",
       "      <th>maxAge</th>\n",
       "      <td>1</td>\n",
       "      <td>1</td>\n",
       "      <td>1</td>\n",
       "      <td>1</td>\n",
       "    </tr>\n",
       "    <tr>\n",
       "      <th>discontinuedOperations</th>\n",
       "      <td>0</td>\n",
       "      <td>0</td>\n",
       "      <td>0</td>\n",
       "      <td>0</td>\n",
       "    </tr>\n",
       "    <tr>\n",
       "      <th>netIncomeFromContinuingOps</th>\n",
       "      <td>5</td>\n",
       "      <td>5</td>\n",
       "      <td>5</td>\n",
       "      <td>4</td>\n",
       "    </tr>\n",
       "    <tr>\n",
       "      <th>netIncomeApplicableToCommonShares</th>\n",
       "      <td>5</td>\n",
       "      <td>5</td>\n",
       "      <td>5</td>\n",
       "      <td>4</td>\n",
       "    </tr>\n",
       "  </tbody>\n",
       "</table>\n",
       "<p>70 rows × 4 columns</p>\n",
       "</div>"
      ],
      "text/plain": [
       "                                       2019  2018  2017  2016\n",
       "investments                               5     5     3     3\n",
       "changeToLiabilities                       1     2     9     8\n",
       "totalCashflowsFromInvestingActivities     4     4     1     4\n",
       "netBorrowings                             2     7     4     2\n",
       "totalCashFromFinancingActivities          8     9     8     1\n",
       "...                                     ...   ...   ...   ...\n",
       "totalOtherIncomeExpenseNet                8     1     2     2\n",
       "maxAge                                    1     1     1     1\n",
       "discontinuedOperations                    0     0     0     0\n",
       "netIncomeFromContinuingOps                5     5     5     4\n",
       "netIncomeApplicableToCommonShares         5     5     5     4\n",
       "\n",
       "[70 rows x 4 columns]"
      ]
     },
     "execution_count": 14,
     "metadata": {},
     "output_type": "execute_result"
    }
   ],
   "source": [
    "extractfirstdigit(combinefs(AAPL))"
   ]
  },
  {
   "cell_type": "markdown",
   "metadata": {},
   "source": [
    "#### Now we should calculate the portion of each number. This will be done in two steps;\n",
    "1. First, count the number of each number from 1 to 9 of the actual dataset(stored in 'actual').\n",
    "2. Second, calculate the expected portion of the numbers that are aligned with Benford's law(stored in 'to_be').\n",
    "\n"
   ]
  },
  {
   "cell_type": "code",
   "execution_count": 15,
   "metadata": {},
   "outputs": [],
   "source": [
    "def benfordslawtest(FS):\n",
    "    FS_mode = extractfirstdigit(FS)\n",
    "    fsmeltlist = FS_mode.melt(value_vars = FS.columns)['value'].to_list()\n",
    "    fslist = FS_mode[2019].to_list()\n",
    "    ct = [fsmeltlist.count(i+1) for i in range(9)]\n",
    "    tb = [sum(ct) * math.log10((i+2)/(i+1)) for i in range(9)]\n",
    "    df = pd.DataFrame((ct,tb)).T\n",
    "    df.rename({0:\"actual\",1:\"to_be\"},axis = 1, inplace = True)\n",
    "    df.reset_index(inplace=True)\n",
    "    df['index'] += 1\n",
    "    return df"
   ]
  },
  {
   "cell_type": "code",
   "execution_count": 16,
   "metadata": {},
   "outputs": [
    {
     "data": {
      "text/html": [
       "<div>\n",
       "<style scoped>\n",
       "    .dataframe tbody tr th:only-of-type {\n",
       "        vertical-align: middle;\n",
       "    }\n",
       "\n",
       "    .dataframe tbody tr th {\n",
       "        vertical-align: top;\n",
       "    }\n",
       "\n",
       "    .dataframe thead th {\n",
       "        text-align: right;\n",
       "    }\n",
       "</style>\n",
       "<table border=\"1\" class=\"dataframe\">\n",
       "  <thead>\n",
       "    <tr style=\"text-align: right;\">\n",
       "      <th></th>\n",
       "      <th>index</th>\n",
       "      <th>actual</th>\n",
       "      <th>to_be</th>\n",
       "    </tr>\n",
       "  </thead>\n",
       "  <tbody>\n",
       "    <tr>\n",
       "      <th>0</th>\n",
       "      <td>1</td>\n",
       "      <td>94.0</td>\n",
       "      <td>75.859559</td>\n",
       "    </tr>\n",
       "    <tr>\n",
       "      <th>1</th>\n",
       "      <td>2</td>\n",
       "      <td>25.0</td>\n",
       "      <td>44.374997</td>\n",
       "    </tr>\n",
       "    <tr>\n",
       "      <th>2</th>\n",
       "      <td>3</td>\n",
       "      <td>23.0</td>\n",
       "      <td>31.484562</td>\n",
       "    </tr>\n",
       "    <tr>\n",
       "      <th>3</th>\n",
       "      <td>4</td>\n",
       "      <td>30.0</td>\n",
       "      <td>24.421323</td>\n",
       "    </tr>\n",
       "    <tr>\n",
       "      <th>4</th>\n",
       "      <td>5</td>\n",
       "      <td>26.0</td>\n",
       "      <td>19.953674</td>\n",
       "    </tr>\n",
       "    <tr>\n",
       "      <th>5</th>\n",
       "      <td>6</td>\n",
       "      <td>18.0</td>\n",
       "      <td>16.870591</td>\n",
       "    </tr>\n",
       "    <tr>\n",
       "      <th>6</th>\n",
       "      <td>7</td>\n",
       "      <td>12.0</td>\n",
       "      <td>14.613971</td>\n",
       "    </tr>\n",
       "    <tr>\n",
       "      <th>7</th>\n",
       "      <td>8</td>\n",
       "      <td>13.0</td>\n",
       "      <td>12.890436</td>\n",
       "    </tr>\n",
       "    <tr>\n",
       "      <th>8</th>\n",
       "      <td>9</td>\n",
       "      <td>11.0</td>\n",
       "      <td>11.530888</td>\n",
       "    </tr>\n",
       "  </tbody>\n",
       "</table>\n",
       "</div>"
      ],
      "text/plain": [
       "   index  actual      to_be\n",
       "0      1    94.0  75.859559\n",
       "1      2    25.0  44.374997\n",
       "2      3    23.0  31.484562\n",
       "3      4    30.0  24.421323\n",
       "4      5    26.0  19.953674\n",
       "5      6    18.0  16.870591\n",
       "6      7    12.0  14.613971\n",
       "7      8    13.0  12.890436\n",
       "8      9    11.0  11.530888"
      ]
     },
     "execution_count": 16,
     "metadata": {},
     "output_type": "execute_result"
    }
   ],
   "source": [
    "benfordslawtest(combinefs(AAPL))"
   ]
  },
  {
   "cell_type": "markdown",
   "metadata": {},
   "source": [
    "#### Let's plot these sets to visually compare them and see if the financial statements are aligned with Benford's law."
   ]
  },
  {
   "cell_type": "code",
   "execution_count": 17,
   "metadata": {},
   "outputs": [
    {
     "data": {
      "text/plain": [
       "<matplotlib.legend.Legend at 0xd2f88b0>"
      ]
     },
     "execution_count": 17,
     "metadata": {},
     "output_type": "execute_result"
    },
    {
     "data": {
      "image/png": "[encoded data removed]",
      "text/plain": [
       "<Figure size 432x288 with 1 Axes>"
      ]
     },
     "metadata": {
      "needs_background": "light"
     },
     "output_type": "display_data"
    }
   ],
   "source": [
    "plt.plot(benfordslawtest(combinefs(AAPL))['index'], benfordslawtest(combinefs(AAPL))['actual'], marker = 's',label = 'actual')\n",
    "plt.plot(benfordslawtest(combinefs(AAPL))['index'], benfordslawtest(combinefs(AAPL))['to_be'], marker = 's',label = \"Benford's law\")\n",
    "plt.legend()"
   ]
  },
  {
   "cell_type": "markdown",
   "metadata": {},
   "source": [
    "#### It turns out they are not well aligned with each other. Maybe because the sample size is too small. Anyway, the thing about Benford's law is that it still works when you multiply raw data with different scalars. Let's see if that is applicable in this situation."
   ]
  },
  {
   "cell_type": "code",
   "execution_count": 18,
   "metadata": {},
   "outputs": [],
   "source": [
    "def threetimes(json_data):\n",
    "    mk = []\n",
    "    for i in range(3):\n",
    "        FS = combinefs(json_data)\n",
    "        FS_mode = FS * (i+1)\n",
    "        mk.append(benfordslawtest(FS_mode))\n",
    "    return mk"
   ]
  },
  {
   "cell_type": "code",
   "execution_count": 19,
   "metadata": {},
   "outputs": [
    {
     "data": {
      "text/html": [
       "<div>\n",
       "<style scoped>\n",
       "    .dataframe tbody tr th:only-of-type {\n",
       "        vertical-align: middle;\n",
       "    }\n",
       "\n",
       "    .dataframe tbody tr th {\n",
       "        vertical-align: top;\n",
       "    }\n",
       "\n",
       "    .dataframe thead th {\n",
       "        text-align: right;\n",
       "    }\n",
       "</style>\n",
       "<table border=\"1\" class=\"dataframe\">\n",
       "  <thead>\n",
       "    <tr style=\"text-align: right;\">\n",
       "      <th></th>\n",
       "      <th>index</th>\n",
       "      <th>actual</th>\n",
       "      <th>to_be</th>\n",
       "    </tr>\n",
       "  </thead>\n",
       "  <tbody>\n",
       "    <tr>\n",
       "      <th>0</th>\n",
       "      <td>1</td>\n",
       "      <td>94.0</td>\n",
       "      <td>75.859559</td>\n",
       "    </tr>\n",
       "    <tr>\n",
       "      <th>1</th>\n",
       "      <td>2</td>\n",
       "      <td>25.0</td>\n",
       "      <td>44.374997</td>\n",
       "    </tr>\n",
       "    <tr>\n",
       "      <th>2</th>\n",
       "      <td>3</td>\n",
       "      <td>23.0</td>\n",
       "      <td>31.484562</td>\n",
       "    </tr>\n",
       "    <tr>\n",
       "      <th>3</th>\n",
       "      <td>4</td>\n",
       "      <td>30.0</td>\n",
       "      <td>24.421323</td>\n",
       "    </tr>\n",
       "    <tr>\n",
       "      <th>4</th>\n",
       "      <td>5</td>\n",
       "      <td>26.0</td>\n",
       "      <td>19.953674</td>\n",
       "    </tr>\n",
       "    <tr>\n",
       "      <th>5</th>\n",
       "      <td>6</td>\n",
       "      <td>18.0</td>\n",
       "      <td>16.870591</td>\n",
       "    </tr>\n",
       "    <tr>\n",
       "      <th>6</th>\n",
       "      <td>7</td>\n",
       "      <td>12.0</td>\n",
       "      <td>14.613971</td>\n",
       "    </tr>\n",
       "    <tr>\n",
       "      <th>7</th>\n",
       "      <td>8</td>\n",
       "      <td>13.0</td>\n",
       "      <td>12.890436</td>\n",
       "    </tr>\n",
       "    <tr>\n",
       "      <th>8</th>\n",
       "      <td>9</td>\n",
       "      <td>11.0</td>\n",
       "      <td>11.530888</td>\n",
       "    </tr>\n",
       "  </tbody>\n",
       "</table>\n",
       "</div>"
      ],
      "text/plain": [
       "   index  actual      to_be\n",
       "0      1    94.0  75.859559\n",
       "1      2    25.0  44.374997\n",
       "2      3    23.0  31.484562\n",
       "3      4    30.0  24.421323\n",
       "4      5    26.0  19.953674\n",
       "5      6    18.0  16.870591\n",
       "6      7    12.0  14.613971\n",
       "7      8    13.0  12.890436\n",
       "8      9    11.0  11.530888"
      ]
     },
     "execution_count": 19,
     "metadata": {},
     "output_type": "execute_result"
    }
   ],
   "source": [
    "threetimes(AAPL)[0]"
   ]
  },
  {
   "cell_type": "code",
   "execution_count": 20,
   "metadata": {},
   "outputs": [],
   "source": [
    "def showplot(json_data):\n",
    "    plt.figure(figsize = (10,3))\n",
    "    for i in range(3):    \n",
    "        plt.subplot(131 + i)\n",
    "        plt.plot(threetimes(json_data)[i]['index'], threetimes(json_data)[i]['actual'], marker = 's', label = 'actual')\n",
    "        plt.plot(threetimes(json_data)[i]['index'], threetimes(json_data)[i]['to_be'], marker = 's',label = \"Benford's law\")\n",
    "        plt.title('X{}'.format(i + 1))\n",
    "        plt.legend()\n",
    "    plt.suptitle(\"Benford's law test on FSs of {}\".format(json_data['symbol']),fontsize=20,  y=1.1)\n"
   ]
  },
  {
   "cell_type": "code",
   "execution_count": 21,
   "metadata": {},
   "outputs": [
    {
     "data": {
      "image/png": "[encoded data removed]",
      "text/plain": [
       "<Figure size 720x216 with 3 Axes>"
      ]
     },
     "metadata": {
      "needs_background": "light"
     },
     "output_type": "display_data"
    }
   ],
   "source": [
    "showplot(AAPL)"
   ]
  },
  {
   "cell_type": "markdown",
   "metadata": {},
   "source": [
    "#### Again, it is kind of vague to tell if the numbers abide by the pattern. Better find a way to gain more sample size. Now let's see if it works in other company's financial statements."
   ]
  },
  {
   "cell_type": "code",
   "execution_count": 22,
   "metadata": {},
   "outputs": [
    {
     "data": {
      "image/png": "[encoded data removed]",
      "text/plain": [
       "<Figure size 720x216 with 3 Axes>"
      ]
     },
     "metadata": {
      "needs_background": "light"
     },
     "output_type": "display_data"
    },
    {
     "data": {
      "image/png": "[encoded data removed]",
      "text/plain": [
       "<Figure size 720x216 with 3 Axes>"
      ]
     },
     "metadata": {
      "needs_background": "light"
     },
     "output_type": "display_data"
    },
    {
     "data": {
      "image/png": "[encoded data removed]",
      "text/plain": [
       "<Figure size 720x216 with 3 Axes>"
      ]
     },
     "metadata": {
      "needs_background": "light"
     },
     "output_type": "display_data"
    },
    {
     "data": {
      "image/png": "[encoded data removed]",
      "text/plain": [
       "<Figure size 720x216 with 3 Axes>"
      ]
     },
     "metadata": {
      "needs_background": "light"
     },
     "output_type": "display_data"
    }
   ],
   "source": [
    "for i in [AAPL,GOOG,TSLA,MSFT]:\n",
    "    showplot(i)"
   ]
  },
  {
   "cell_type": "code",
   "execution_count": null,
   "metadata": {},
   "outputs": [],
   "source": []
  }
 ],
 "metadata": {
  "kernelspec": {
   "display_name": "Python 3",
   "language": "python",
   "name": "python3"
  },
  "language_info": {
   "codemirror_mode": {
    "name": "ipython",
    "version": 3
   },
   "file_extension": ".py",
   "mimetype": "text/x-python",
   "name": "python",
   "nbconvert_exporter": "python",
   "pygments_lexer": "ipython3",
   "version": "3.7.6"
  }
 },
 "nbformat": 4,
 "nbformat_minor": 4
}
